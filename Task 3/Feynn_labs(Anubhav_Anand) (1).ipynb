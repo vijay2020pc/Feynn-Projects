{
  "nbformat": 4,
  "nbformat_minor": 0,
  "metadata": {
    "colab": {
      "name": "Feynn labs(Anubhav Anand)",
      "provenance": [],
      "collapsed_sections": []
    },
    "kernelspec": {
      "name": "python3",
      "display_name": "Python 3"
    },
    "language_info": {
      "name": "python"
    }
  },
  "cells": [
    {
      "cell_type": "code",
      "execution_count": 6,
      "metadata": {
        "id": "1IPaeW4ZHFfh"
      },
      "outputs": [],
      "source": [
        "import matplotlib.pyplot as plt\n",
        "import pandas as pd\n",
        "import numpy as np"
      ]
    },
    {
      "cell_type": "code",
      "source": [
        "df=pd.read_csv(\"diabetes_India.csv\")\n"
      ],
      "metadata": {
        "id": "QokP0bMPHpPl"
      },
      "execution_count": 7,
      "outputs": []
    },
    {
      "cell_type": "code",
      "source": [
        "df.head()"
      ],
      "metadata": {
        "colab": {
          "base_uri": "https://localhost:8080/",
          "height": 458
        },
        "id": "NI5VCMzwH00W",
        "outputId": "d40fef6f-22de-4756-9843-7e0adcb0d2b1"
      },
      "execution_count": 8,
      "outputs": [
        {
          "output_type": "execute_result",
          "data": {
            "text/plain": [
              "                               Categories India/States/UTs  \\\n",
              "0                               All India            India   \n",
              "1  MAJOR STATES (Population > 20 million)   Andhra Pradesh   \n",
              "2  MAJOR STATES (Population > 20 million)            Assam   \n",
              "3  MAJOR STATES (Population > 20 million)            Bihar   \n",
              "4  MAJOR STATES (Population > 20 million)      Chattisgarh   \n",
              "\n",
              "   NFHS III(2005-06)-Number of women in age group 15-49 per 100-000 reported Diabetes-Total  \\\n",
              "0                                                881                                          \n",
              "1                                                838                                          \n",
              "2                                                402                                          \n",
              "3                                               1024                                          \n",
              "4                                                659                                          \n",
              "\n",
              "   NFHS III(2005-06)-Number of women in age group 15-49 per 100-000 reported Diabetes-Rural  \\\n",
              "0                                                641                                          \n",
              "1                                                396                                          \n",
              "2                                                307                                          \n",
              "3                                                864                                          \n",
              "4                                                554                                          \n",
              "\n",
              "   NFHS III(2005-06)-Number of women in age group 15-49 per 100-000 reported Diabetes-Urban  \\\n",
              "0                                               1374                                          \n",
              "1                                               1674                                          \n",
              "2                                                812                                          \n",
              "3                                               1864                                          \n",
              "4                                               1013                                          \n",
              "\n",
              "   NFHS III(2005-06)-Number of men in age group 15-49 per 100-000 reported Diabetes-Total  \\\n",
              "0                                               1051                                        \n",
              "1                                               2116                                        \n",
              "2                                                601                                        \n",
              "3                                                940                                        \n",
              "4                                                932                                        \n",
              "\n",
              "   NFHS III(2005-06)-Number of men in age group 15-49 per 100-000 reported Diabetes-Rural  \\\n",
              "0                                                860                                        \n",
              "1                                               1747                                        \n",
              "2                                                472                                        \n",
              "3                                               1058                                        \n",
              "4                                                237                                        \n",
              "\n",
              "   NFHS III(2005-06)-Number of men in age group 15-49 per 100-000 reported Diabetes-Urban  \n",
              "0                                               1383                                       \n",
              "1                                               2788                                       \n",
              "2                                               1044                                       \n",
              "3                                                535                                       \n",
              "4                                               3050                                       "
            ],
            "text/html": [
              "\n",
              "  <div id=\"df-b03dbbd2-14ee-4579-a120-b587cc689efb\">\n",
              "    <div class=\"colab-df-container\">\n",
              "      <div>\n",
              "<style scoped>\n",
              "    .dataframe tbody tr th:only-of-type {\n",
              "        vertical-align: middle;\n",
              "    }\n",
              "\n",
              "    .dataframe tbody tr th {\n",
              "        vertical-align: top;\n",
              "    }\n",
              "\n",
              "    .dataframe thead th {\n",
              "        text-align: right;\n",
              "    }\n",
              "</style>\n",
              "<table border=\"1\" class=\"dataframe\">\n",
              "  <thead>\n",
              "    <tr style=\"text-align: right;\">\n",
              "      <th></th>\n",
              "      <th>Categories</th>\n",
              "      <th>India/States/UTs</th>\n",
              "      <th>NFHS III(2005-06)-Number of women in age group 15-49 per 100-000 reported Diabetes-Total</th>\n",
              "      <th>NFHS III(2005-06)-Number of women in age group 15-49 per 100-000 reported Diabetes-Rural</th>\n",
              "      <th>NFHS III(2005-06)-Number of women in age group 15-49 per 100-000 reported Diabetes-Urban</th>\n",
              "      <th>NFHS III(2005-06)-Number of men in age group 15-49 per 100-000 reported Diabetes-Total</th>\n",
              "      <th>NFHS III(2005-06)-Number of men in age group 15-49 per 100-000 reported Diabetes-Rural</th>\n",
              "      <th>NFHS III(2005-06)-Number of men in age group 15-49 per 100-000 reported Diabetes-Urban</th>\n",
              "    </tr>\n",
              "  </thead>\n",
              "  <tbody>\n",
              "    <tr>\n",
              "      <th>0</th>\n",
              "      <td>All India</td>\n",
              "      <td>India</td>\n",
              "      <td>881</td>\n",
              "      <td>641</td>\n",
              "      <td>1374</td>\n",
              "      <td>1051</td>\n",
              "      <td>860</td>\n",
              "      <td>1383</td>\n",
              "    </tr>\n",
              "    <tr>\n",
              "      <th>1</th>\n",
              "      <td>MAJOR STATES (Population &gt; 20 million)</td>\n",
              "      <td>Andhra Pradesh</td>\n",
              "      <td>838</td>\n",
              "      <td>396</td>\n",
              "      <td>1674</td>\n",
              "      <td>2116</td>\n",
              "      <td>1747</td>\n",
              "      <td>2788</td>\n",
              "    </tr>\n",
              "    <tr>\n",
              "      <th>2</th>\n",
              "      <td>MAJOR STATES (Population &gt; 20 million)</td>\n",
              "      <td>Assam</td>\n",
              "      <td>402</td>\n",
              "      <td>307</td>\n",
              "      <td>812</td>\n",
              "      <td>601</td>\n",
              "      <td>472</td>\n",
              "      <td>1044</td>\n",
              "    </tr>\n",
              "    <tr>\n",
              "      <th>3</th>\n",
              "      <td>MAJOR STATES (Population &gt; 20 million)</td>\n",
              "      <td>Bihar</td>\n",
              "      <td>1024</td>\n",
              "      <td>864</td>\n",
              "      <td>1864</td>\n",
              "      <td>940</td>\n",
              "      <td>1058</td>\n",
              "      <td>535</td>\n",
              "    </tr>\n",
              "    <tr>\n",
              "      <th>4</th>\n",
              "      <td>MAJOR STATES (Population &gt; 20 million)</td>\n",
              "      <td>Chattisgarh</td>\n",
              "      <td>659</td>\n",
              "      <td>554</td>\n",
              "      <td>1013</td>\n",
              "      <td>932</td>\n",
              "      <td>237</td>\n",
              "      <td>3050</td>\n",
              "    </tr>\n",
              "  </tbody>\n",
              "</table>\n",
              "</div>\n",
              "      <button class=\"colab-df-convert\" onclick=\"convertToInteractive('df-b03dbbd2-14ee-4579-a120-b587cc689efb')\"\n",
              "              title=\"Convert this dataframe to an interactive table.\"\n",
              "              style=\"display:none;\">\n",
              "        \n",
              "  <svg xmlns=\"http://www.w3.org/2000/svg\" height=\"24px\"viewBox=\"0 0 24 24\"\n",
              "       width=\"24px\">\n",
              "    <path d=\"M0 0h24v24H0V0z\" fill=\"none\"/>\n",
              "    <path d=\"M18.56 5.44l.94 2.06.94-2.06 2.06-.94-2.06-.94-.94-2.06-.94 2.06-2.06.94zm-11 1L8.5 8.5l.94-2.06 2.06-.94-2.06-.94L8.5 2.5l-.94 2.06-2.06.94zm10 10l.94 2.06.94-2.06 2.06-.94-2.06-.94-.94-2.06-.94 2.06-2.06.94z\"/><path d=\"M17.41 7.96l-1.37-1.37c-.4-.4-.92-.59-1.43-.59-.52 0-1.04.2-1.43.59L10.3 9.45l-7.72 7.72c-.78.78-.78 2.05 0 2.83L4 21.41c.39.39.9.59 1.41.59.51 0 1.02-.2 1.41-.59l7.78-7.78 2.81-2.81c.8-.78.8-2.07 0-2.86zM5.41 20L4 18.59l7.72-7.72 1.47 1.35L5.41 20z\"/>\n",
              "  </svg>\n",
              "      </button>\n",
              "      \n",
              "  <style>\n",
              "    .colab-df-container {\n",
              "      display:flex;\n",
              "      flex-wrap:wrap;\n",
              "      gap: 12px;\n",
              "    }\n",
              "\n",
              "    .colab-df-convert {\n",
              "      background-color: #E8F0FE;\n",
              "      border: none;\n",
              "      border-radius: 50%;\n",
              "      cursor: pointer;\n",
              "      display: none;\n",
              "      fill: #1967D2;\n",
              "      height: 32px;\n",
              "      padding: 0 0 0 0;\n",
              "      width: 32px;\n",
              "    }\n",
              "\n",
              "    .colab-df-convert:hover {\n",
              "      background-color: #E2EBFA;\n",
              "      box-shadow: 0px 1px 2px rgba(60, 64, 67, 0.3), 0px 1px 3px 1px rgba(60, 64, 67, 0.15);\n",
              "      fill: #174EA6;\n",
              "    }\n",
              "\n",
              "    [theme=dark] .colab-df-convert {\n",
              "      background-color: #3B4455;\n",
              "      fill: #D2E3FC;\n",
              "    }\n",
              "\n",
              "    [theme=dark] .colab-df-convert:hover {\n",
              "      background-color: #434B5C;\n",
              "      box-shadow: 0px 1px 3px 1px rgba(0, 0, 0, 0.15);\n",
              "      filter: drop-shadow(0px 1px 2px rgba(0, 0, 0, 0.3));\n",
              "      fill: #FFFFFF;\n",
              "    }\n",
              "  </style>\n",
              "\n",
              "      <script>\n",
              "        const buttonEl =\n",
              "          document.querySelector('#df-b03dbbd2-14ee-4579-a120-b587cc689efb button.colab-df-convert');\n",
              "        buttonEl.style.display =\n",
              "          google.colab.kernel.accessAllowed ? 'block' : 'none';\n",
              "\n",
              "        async function convertToInteractive(key) {\n",
              "          const element = document.querySelector('#df-b03dbbd2-14ee-4579-a120-b587cc689efb');\n",
              "          const dataTable =\n",
              "            await google.colab.kernel.invokeFunction('convertToInteractive',\n",
              "                                                     [key], {});\n",
              "          if (!dataTable) return;\n",
              "\n",
              "          const docLinkHtml = 'Like what you see? Visit the ' +\n",
              "            '<a target=\"_blank\" href=https://colab.research.google.com/notebooks/data_table.ipynb>data table notebook</a>'\n",
              "            + ' to learn more about interactive tables.';\n",
              "          element.innerHTML = '';\n",
              "          dataTable['output_type'] = 'display_data';\n",
              "          await google.colab.output.renderOutput(dataTable, element);\n",
              "          const docLink = document.createElement('div');\n",
              "          docLink.innerHTML = docLinkHtml;\n",
              "          element.appendChild(docLink);\n",
              "        }\n",
              "      </script>\n",
              "    </div>\n",
              "  </div>\n",
              "  "
            ]
          },
          "metadata": {},
          "execution_count": 8
        }
      ]
    },
    {
      "cell_type": "code",
      "source": [
        "df.shape"
      ],
      "metadata": {
        "colab": {
          "base_uri": "https://localhost:8080/"
        },
        "id": "fdJ3z4M0JYIC",
        "outputId": "50d87d6c-c8e2-46c6-baf0-9fb321da86a1"
      },
      "execution_count": 9,
      "outputs": [
        {
          "output_type": "execute_result",
          "data": {
            "text/plain": [
              "(30, 8)"
            ]
          },
          "metadata": {},
          "execution_count": 9
        }
      ]
    },
    {
      "cell_type": "code",
      "source": [
        "df.describe"
      ],
      "metadata": {
        "colab": {
          "base_uri": "https://localhost:8080/"
        },
        "id": "WxuarLa7KIgL",
        "outputId": "a19706fc-f23c-49f8-fcee-ca634c38814e"
      },
      "execution_count": 10,
      "outputs": [
        {
          "output_type": "execute_result",
          "data": {
            "text/plain": [
              "<bound method NDFrame.describe of                                 Categories   India/States/UTs  \\\n",
              "0                                All India              India   \n",
              "1   MAJOR STATES (Population > 20 million)     Andhra Pradesh   \n",
              "2   MAJOR STATES (Population > 20 million)              Assam   \n",
              "3   MAJOR STATES (Population > 20 million)              Bihar   \n",
              "4   MAJOR STATES (Population > 20 million)        Chattisgarh   \n",
              "5   MAJOR STATES (Population > 20 million)            Gujarat   \n",
              "6   MAJOR STATES (Population > 20 million)            Haryana   \n",
              "7   MAJOR STATES (Population > 20 million)          Jharkhand   \n",
              "8   MAJOR STATES (Population > 20 million)          Karnataka   \n",
              "9   MAJOR STATES (Population > 20 million)             Kerala   \n",
              "10  MAJOR STATES (Population > 20 million)     Madhya Pradesh   \n",
              "11  MAJOR STATES (Population > 20 million)        Maharashtra   \n",
              "12  MAJOR STATES (Population > 20 million)             Odisha   \n",
              "13  MAJOR STATES (Population > 20 million)             Punjab   \n",
              "14  MAJOR STATES (Population > 20 million)          Rajasthan   \n",
              "15  MAJOR STATES (Population > 20 million)         Tamil Nadu   \n",
              "16  MAJOR STATES (Population > 20 million)      Uttar Pradesh   \n",
              "17  MAJOR STATES (Population > 20 million)        West Bengal   \n",
              "18                          SMALLER STATES  Arunachal Pradesh   \n",
              "19                          SMALLER STATES              Delhi   \n",
              "20                          SMALLER STATES                Goa   \n",
              "21                          SMALLER STATES   Himachal Pradesh   \n",
              "22                          SMALLER STATES  Jammu and Kashmir   \n",
              "23                          SMALLER STATES            Manipur   \n",
              "24                          SMALLER STATES          Meghalaya   \n",
              "25                          SMALLER STATES            Mizoram   \n",
              "26                          SMALLER STATES           Nagaland   \n",
              "27                          SMALLER STATES             Sikkim   \n",
              "28                          SMALLER STATES            Tripura   \n",
              "29                          SMALLER STATES        Uttarakhand   \n",
              "\n",
              "    NFHS III(2005-06)-Number of women in age group 15-49 per 100-000 reported Diabetes-Total  \\\n",
              "0                                                 881                                          \n",
              "1                                                 838                                          \n",
              "2                                                 402                                          \n",
              "3                                                1024                                          \n",
              "4                                                 659                                          \n",
              "5                                                 968                                          \n",
              "6                                                1169                                          \n",
              "7                                                 652                                          \n",
              "8                                                 681                                          \n",
              "9                                                2549                                          \n",
              "10                                                558                                          \n",
              "11                                                479                                          \n",
              "12                                                556                                          \n",
              "13                                                849                                          \n",
              "14                                                282                                          \n",
              "15                                               2188                                          \n",
              "16                                                383                                          \n",
              "17                                               1641                                          \n",
              "18                                                537                                          \n",
              "19                                               1692                                          \n",
              "20                                               1921                                          \n",
              "21                                               1048                                          \n",
              "22                                                540                                          \n",
              "23                                               1006                                          \n",
              "24                                                910                                          \n",
              "25                                               1189                                          \n",
              "26                                                577                                          \n",
              "27                                               1160                                          \n",
              "28                                               1656                                          \n",
              "29                                                825                                          \n",
              "\n",
              "    NFHS III(2005-06)-Number of women in age group 15-49 per 100-000 reported Diabetes-Rural  \\\n",
              "0                                                 641                                          \n",
              "1                                                 396                                          \n",
              "2                                                 307                                          \n",
              "3                                                 864                                          \n",
              "4                                                 554                                          \n",
              "5                                                 796                                          \n",
              "6                                                 684                                          \n",
              "7                                                 381                                          \n",
              "8                                                 431                                          \n",
              "9                                                2291                                          \n",
              "10                                                229                                          \n",
              "11                                                379                                          \n",
              "12                                                412                                          \n",
              "13                                                673                                          \n",
              "14                                                277                                          \n",
              "15                                               1581                                          \n",
              "16                                                270                                          \n",
              "17                                               1428                                          \n",
              "18                                                446                                          \n",
              "19                                                  0                                          \n",
              "20                                               1784                                          \n",
              "21                                               1056                                          \n",
              "22                                                227                                          \n",
              "23                                                969                                          \n",
              "24                                                169                                          \n",
              "25                                                733                                          \n",
              "26                                                420                                          \n",
              "27                                               1088                                          \n",
              "28                                               1597                                          \n",
              "29                                                581                                          \n",
              "\n",
              "    NFHS III(2005-06)-Number of women in age group 15-49 per 100-000 reported Diabetes-Urban  \\\n",
              "0                                                1374                                          \n",
              "1                                                1674                                          \n",
              "2                                                 812                                          \n",
              "3                                                1864                                          \n",
              "4                                                1013                                          \n",
              "5                                                1193                                          \n",
              "6                                                2288                                          \n",
              "7                                                1394                                          \n",
              "8                                                1047                                          \n",
              "9                                                3033                                          \n",
              "10                                               1379                                          \n",
              "11                                                576                                          \n",
              "12                                               1228                                          \n",
              "13                                               1150                                          \n",
              "14                                                294                                          \n",
              "15                                               2845                                          \n",
              "16                                                709                                          \n",
              "17                                               2121                                          \n",
              "18                                                762                                          \n",
              "19                                               1831                                          \n",
              "20                                               2028                                          \n",
              "21                                                977                                          \n",
              "22                                               1295                                          \n",
              "23                                               1081                                          \n",
              "24                                               2860                                          \n",
              "25                                               1542                                          \n",
              "26                                                955                                          \n",
              "27                                               1429                                          \n",
              "28                                               1931                                          \n",
              "29                                               1464                                          \n",
              "\n",
              "    NFHS III(2005-06)-Number of men in age group 15-49 per 100-000 reported Diabetes-Total  \\\n",
              "0                                                1051                                        \n",
              "1                                                2116                                        \n",
              "2                                                 601                                        \n",
              "3                                                 940                                        \n",
              "4                                                 932                                        \n",
              "5                                                 524                                        \n",
              "6                                                 608                                        \n",
              "7                                                 629                                        \n",
              "8                                                 973                                        \n",
              "9                                                3078                                        \n",
              "10                                                555                                        \n",
              "11                                                906                                        \n",
              "12                                               1179                                        \n",
              "13                                                802                                        \n",
              "14                                                362                                        \n",
              "15                                               1351                                        \n",
              "16                                                456                                        \n",
              "17                                               2323                                        \n",
              "18                                                606                                        \n",
              "19                                               1229                                        \n",
              "20                                               3016                                        \n",
              "21                                                344                                        \n",
              "22                                                278                                        \n",
              "23                                               1059                                        \n",
              "24                                                641                                        \n",
              "25                                                315                                        \n",
              "26                                               1217                                        \n",
              "27                                               1698                                        \n",
              "28                                               2392                                        \n",
              "29                                                965                                        \n",
              "\n",
              "    NFHS III(2005-06)-Number of men in age group 15-49 per 100-000 reported Diabetes-Rural  \\\n",
              "0                                                 860                                        \n",
              "1                                                1747                                        \n",
              "2                                                 472                                        \n",
              "3                                                1058                                        \n",
              "4                                                 237                                        \n",
              "5                                                 519                                        \n",
              "6                                                 402                                        \n",
              "7                                                 368                                        \n",
              "8                                                 693                                        \n",
              "9                                                2000                                        \n",
              "10                                                698                                        \n",
              "11                                                428                                        \n",
              "12                                                821                                        \n",
              "13                                                576                                        \n",
              "14                                                354                                        \n",
              "15                                               1024                                        \n",
              "16                                                383                                        \n",
              "17                                               2343                                        \n",
              "18                                                661                                        \n",
              "19                                                  0                                        \n",
              "20                                               2491                                        \n",
              "21                                                303                                        \n",
              "22                                                  0                                        \n",
              "23                                                984                                        \n",
              "24                                                267                                        \n",
              "25                                                324                                        \n",
              "26                                               1252                                        \n",
              "27                                               1528                                        \n",
              "28                                               2236                                        \n",
              "29                                                507                                        \n",
              "\n",
              "    NFHS III(2005-06)-Number of men in age group 15-49 per 100-000 reported Diabetes-Urban  \n",
              "0                                                1383                                       \n",
              "1                                                2788                                       \n",
              "2                                                1044                                       \n",
              "3                                                 535                                       \n",
              "4                                                3050                                       \n",
              "5                                                 530                                       \n",
              "6                                                1045                                       \n",
              "7                                                1244                                       \n",
              "8                                                1353                                       \n",
              "9                                                5056                                       \n",
              "10                                                239                                       \n",
              "11                                               1316                                       \n",
              "12                                               2590                                       \n",
              "13                                               1087                                       \n",
              "14                                                377                                       \n",
              "15                                               1675                                       \n",
              "16                                                623                                       \n",
              "17                                               2284                                       \n",
              "18                                                472                                       \n",
              "19                                               1332                                       \n",
              "20                                               3442                                       \n",
              "21                                                619                                       \n",
              "22                                                935                                       \n",
              "23                                               1203                                       \n",
              "24                                               1634                                       \n",
              "25                                                307                                       \n",
              "26                                               1141                                       \n",
              "27                                               2295                                       \n",
              "28                                               3145                                       \n",
              "29                                               1786                                       >"
            ]
          },
          "metadata": {},
          "execution_count": 10
        }
      ]
    },
    {
      "cell_type": "code",
      "source": [
        "df.describe()"
      ],
      "metadata": {
        "colab": {
          "base_uri": "https://localhost:8080/",
          "height": 396
        },
        "id": "e7wR88lQJZZC",
        "outputId": "6c1a39f1-50ac-49c3-a663-e1da7c356edd"
      },
      "execution_count": 11,
      "outputs": [
        {
          "output_type": "execute_result",
          "data": {
            "text/plain": [
              "       NFHS III(2005-06)-Number of women in age group 15-49 per 100-000 reported Diabetes-Total  \\\n",
              "count                                          30.000000                                          \n",
              "mean                                          994.000000                                          \n",
              "std                                           558.184928                                          \n",
              "min                                           282.000000                                          \n",
              "25%                                           562.750000                                          \n",
              "50%                                           865.000000                                          \n",
              "75%                                          1166.750000                                          \n",
              "max                                          2549.000000                                          \n",
              "\n",
              "       NFHS III(2005-06)-Number of women in age group 15-49 per 100-000 reported Diabetes-Rural  \\\n",
              "count                                          30.000000                                          \n",
              "mean                                          722.133333                                          \n",
              "std                                           543.311286                                          \n",
              "min                                             0.000000                                          \n",
              "25%                                           379.500000                                          \n",
              "50%                                           567.500000                                          \n",
              "75%                                           942.750000                                          \n",
              "max                                          2291.000000                                          \n",
              "\n",
              "       NFHS III(2005-06)-Number of women in age group 15-49 per 100-000 reported Diabetes-Urban  \\\n",
              "count                                          30.000000                                          \n",
              "mean                                         1471.633333                                          \n",
              "std                                           675.967326                                          \n",
              "min                                           294.000000                                          \n",
              "25%                                          1021.500000                                          \n",
              "50%                                          1376.500000                                          \n",
              "75%                                          1855.750000                                          \n",
              "max                                          3033.000000                                          \n",
              "\n",
              "       NFHS III(2005-06)-Number of men in age group 15-49 per 100-000 reported Diabetes-Total  \\\n",
              "count                                          30.000000                                        \n",
              "mean                                         1104.866667                                        \n",
              "std                                           767.333122                                        \n",
              "min                                           278.000000                                        \n",
              "25%                                           602.250000                                        \n",
              "50%                                           936.000000                                        \n",
              "75%                                          1226.000000                                        \n",
              "max                                          3078.000000                                        \n",
              "\n",
              "       NFHS III(2005-06)-Number of men in age group 15-49 per 100-000 reported Diabetes-Rural  \\\n",
              "count                                          30.000000                                        \n",
              "mean                                          851.200000                                        \n",
              "std                                           695.406624                                        \n",
              "min                                             0.000000                                        \n",
              "25%                                           371.750000                                        \n",
              "50%                                           618.500000                                        \n",
              "75%                                          1049.500000                                        \n",
              "max                                          2491.000000                                        \n",
              "\n",
              "       NFHS III(2005-06)-Number of men in age group 15-49 per 100-000 reported Diabetes-Urban  \n",
              "count                                          30.000000                                       \n",
              "mean                                         1551.000000                                       \n",
              "std                                          1109.590698                                       \n",
              "min                                           239.000000                                       \n",
              "25%                                           701.000000                                       \n",
              "50%                                          1280.000000                                       \n",
              "75%                                          2159.500000                                       \n",
              "max                                          5056.000000                                       "
            ],
            "text/html": [
              "\n",
              "  <div id=\"df-c89b60ca-3815-44b6-8bb8-78929fda3d54\">\n",
              "    <div class=\"colab-df-container\">\n",
              "      <div>\n",
              "<style scoped>\n",
              "    .dataframe tbody tr th:only-of-type {\n",
              "        vertical-align: middle;\n",
              "    }\n",
              "\n",
              "    .dataframe tbody tr th {\n",
              "        vertical-align: top;\n",
              "    }\n",
              "\n",
              "    .dataframe thead th {\n",
              "        text-align: right;\n",
              "    }\n",
              "</style>\n",
              "<table border=\"1\" class=\"dataframe\">\n",
              "  <thead>\n",
              "    <tr style=\"text-align: right;\">\n",
              "      <th></th>\n",
              "      <th>NFHS III(2005-06)-Number of women in age group 15-49 per 100-000 reported Diabetes-Total</th>\n",
              "      <th>NFHS III(2005-06)-Number of women in age group 15-49 per 100-000 reported Diabetes-Rural</th>\n",
              "      <th>NFHS III(2005-06)-Number of women in age group 15-49 per 100-000 reported Diabetes-Urban</th>\n",
              "      <th>NFHS III(2005-06)-Number of men in age group 15-49 per 100-000 reported Diabetes-Total</th>\n",
              "      <th>NFHS III(2005-06)-Number of men in age group 15-49 per 100-000 reported Diabetes-Rural</th>\n",
              "      <th>NFHS III(2005-06)-Number of men in age group 15-49 per 100-000 reported Diabetes-Urban</th>\n",
              "    </tr>\n",
              "  </thead>\n",
              "  <tbody>\n",
              "    <tr>\n",
              "      <th>count</th>\n",
              "      <td>30.000000</td>\n",
              "      <td>30.000000</td>\n",
              "      <td>30.000000</td>\n",
              "      <td>30.000000</td>\n",
              "      <td>30.000000</td>\n",
              "      <td>30.000000</td>\n",
              "    </tr>\n",
              "    <tr>\n",
              "      <th>mean</th>\n",
              "      <td>994.000000</td>\n",
              "      <td>722.133333</td>\n",
              "      <td>1471.633333</td>\n",
              "      <td>1104.866667</td>\n",
              "      <td>851.200000</td>\n",
              "      <td>1551.000000</td>\n",
              "    </tr>\n",
              "    <tr>\n",
              "      <th>std</th>\n",
              "      <td>558.184928</td>\n",
              "      <td>543.311286</td>\n",
              "      <td>675.967326</td>\n",
              "      <td>767.333122</td>\n",
              "      <td>695.406624</td>\n",
              "      <td>1109.590698</td>\n",
              "    </tr>\n",
              "    <tr>\n",
              "      <th>min</th>\n",
              "      <td>282.000000</td>\n",
              "      <td>0.000000</td>\n",
              "      <td>294.000000</td>\n",
              "      <td>278.000000</td>\n",
              "      <td>0.000000</td>\n",
              "      <td>239.000000</td>\n",
              "    </tr>\n",
              "    <tr>\n",
              "      <th>25%</th>\n",
              "      <td>562.750000</td>\n",
              "      <td>379.500000</td>\n",
              "      <td>1021.500000</td>\n",
              "      <td>602.250000</td>\n",
              "      <td>371.750000</td>\n",
              "      <td>701.000000</td>\n",
              "    </tr>\n",
              "    <tr>\n",
              "      <th>50%</th>\n",
              "      <td>865.000000</td>\n",
              "      <td>567.500000</td>\n",
              "      <td>1376.500000</td>\n",
              "      <td>936.000000</td>\n",
              "      <td>618.500000</td>\n",
              "      <td>1280.000000</td>\n",
              "    </tr>\n",
              "    <tr>\n",
              "      <th>75%</th>\n",
              "      <td>1166.750000</td>\n",
              "      <td>942.750000</td>\n",
              "      <td>1855.750000</td>\n",
              "      <td>1226.000000</td>\n",
              "      <td>1049.500000</td>\n",
              "      <td>2159.500000</td>\n",
              "    </tr>\n",
              "    <tr>\n",
              "      <th>max</th>\n",
              "      <td>2549.000000</td>\n",
              "      <td>2291.000000</td>\n",
              "      <td>3033.000000</td>\n",
              "      <td>3078.000000</td>\n",
              "      <td>2491.000000</td>\n",
              "      <td>5056.000000</td>\n",
              "    </tr>\n",
              "  </tbody>\n",
              "</table>\n",
              "</div>\n",
              "      <button class=\"colab-df-convert\" onclick=\"convertToInteractive('df-c89b60ca-3815-44b6-8bb8-78929fda3d54')\"\n",
              "              title=\"Convert this dataframe to an interactive table.\"\n",
              "              style=\"display:none;\">\n",
              "        \n",
              "  <svg xmlns=\"http://www.w3.org/2000/svg\" height=\"24px\"viewBox=\"0 0 24 24\"\n",
              "       width=\"24px\">\n",
              "    <path d=\"M0 0h24v24H0V0z\" fill=\"none\"/>\n",
              "    <path d=\"M18.56 5.44l.94 2.06.94-2.06 2.06-.94-2.06-.94-.94-2.06-.94 2.06-2.06.94zm-11 1L8.5 8.5l.94-2.06 2.06-.94-2.06-.94L8.5 2.5l-.94 2.06-2.06.94zm10 10l.94 2.06.94-2.06 2.06-.94-2.06-.94-.94-2.06-.94 2.06-2.06.94z\"/><path d=\"M17.41 7.96l-1.37-1.37c-.4-.4-.92-.59-1.43-.59-.52 0-1.04.2-1.43.59L10.3 9.45l-7.72 7.72c-.78.78-.78 2.05 0 2.83L4 21.41c.39.39.9.59 1.41.59.51 0 1.02-.2 1.41-.59l7.78-7.78 2.81-2.81c.8-.78.8-2.07 0-2.86zM5.41 20L4 18.59l7.72-7.72 1.47 1.35L5.41 20z\"/>\n",
              "  </svg>\n",
              "      </button>\n",
              "      \n",
              "  <style>\n",
              "    .colab-df-container {\n",
              "      display:flex;\n",
              "      flex-wrap:wrap;\n",
              "      gap: 12px;\n",
              "    }\n",
              "\n",
              "    .colab-df-convert {\n",
              "      background-color: #E8F0FE;\n",
              "      border: none;\n",
              "      border-radius: 50%;\n",
              "      cursor: pointer;\n",
              "      display: none;\n",
              "      fill: #1967D2;\n",
              "      height: 32px;\n",
              "      padding: 0 0 0 0;\n",
              "      width: 32px;\n",
              "    }\n",
              "\n",
              "    .colab-df-convert:hover {\n",
              "      background-color: #E2EBFA;\n",
              "      box-shadow: 0px 1px 2px rgba(60, 64, 67, 0.3), 0px 1px 3px 1px rgba(60, 64, 67, 0.15);\n",
              "      fill: #174EA6;\n",
              "    }\n",
              "\n",
              "    [theme=dark] .colab-df-convert {\n",
              "      background-color: #3B4455;\n",
              "      fill: #D2E3FC;\n",
              "    }\n",
              "\n",
              "    [theme=dark] .colab-df-convert:hover {\n",
              "      background-color: #434B5C;\n",
              "      box-shadow: 0px 1px 3px 1px rgba(0, 0, 0, 0.15);\n",
              "      filter: drop-shadow(0px 1px 2px rgba(0, 0, 0, 0.3));\n",
              "      fill: #FFFFFF;\n",
              "    }\n",
              "  </style>\n",
              "\n",
              "      <script>\n",
              "        const buttonEl =\n",
              "          document.querySelector('#df-c89b60ca-3815-44b6-8bb8-78929fda3d54 button.colab-df-convert');\n",
              "        buttonEl.style.display =\n",
              "          google.colab.kernel.accessAllowed ? 'block' : 'none';\n",
              "\n",
              "        async function convertToInteractive(key) {\n",
              "          const element = document.querySelector('#df-c89b60ca-3815-44b6-8bb8-78929fda3d54');\n",
              "          const dataTable =\n",
              "            await google.colab.kernel.invokeFunction('convertToInteractive',\n",
              "                                                     [key], {});\n",
              "          if (!dataTable) return;\n",
              "\n",
              "          const docLinkHtml = 'Like what you see? Visit the ' +\n",
              "            '<a target=\"_blank\" href=https://colab.research.google.com/notebooks/data_table.ipynb>data table notebook</a>'\n",
              "            + ' to learn more about interactive tables.';\n",
              "          element.innerHTML = '';\n",
              "          dataTable['output_type'] = 'display_data';\n",
              "          await google.colab.output.renderOutput(dataTable, element);\n",
              "          const docLink = document.createElement('div');\n",
              "          docLink.innerHTML = docLinkHtml;\n",
              "          element.appendChild(docLink);\n",
              "        }\n",
              "      </script>\n",
              "    </div>\n",
              "  </div>\n",
              "  "
            ]
          },
          "metadata": {},
          "execution_count": 11
        }
      ]
    },
    {
      "cell_type": "code",
      "source": [
        "df.columns"
      ],
      "metadata": {
        "colab": {
          "base_uri": "https://localhost:8080/"
        },
        "id": "MaPgeVB8Jbyr",
        "outputId": "5b25eb0a-d121-4e88-ee43-c4acbd6f2ab4"
      },
      "execution_count": 12,
      "outputs": [
        {
          "output_type": "execute_result",
          "data": {
            "text/plain": [
              "Index(['Categories', 'India/States/UTs',\n",
              "       'NFHS III(2005-06)-Number of women in age group 15-49 per 100-000 reported Diabetes-Total',\n",
              "       'NFHS III(2005-06)-Number of women in age group 15-49 per 100-000 reported Diabetes-Rural',\n",
              "       'NFHS III(2005-06)-Number of women in age group 15-49 per 100-000 reported Diabetes-Urban',\n",
              "       'NFHS III(2005-06)-Number of men in age group 15-49 per 100-000 reported Diabetes-Total',\n",
              "       'NFHS III(2005-06)-Number of men in age group 15-49 per 100-000 reported Diabetes-Rural',\n",
              "       'NFHS III(2005-06)-Number of men in age group 15-49 per 100-000 reported Diabetes-Urban'],\n",
              "      dtype='object')"
            ]
          },
          "metadata": {},
          "execution_count": 12
        }
      ]
    },
    {
      "cell_type": "code",
      "source": [
        "new_column_names=[[\"Categories\" , \"India_States\" , \"women_Diabetes_Total\" ,\"women_Diabetes_Rural\" ,\"women_Diabetes_Urban\"  ,\"men_Diabetes_Total\" ,\"men_Diabetes_Rural\" ,\"men_Diabetes_Urban\"  ]]"
      ],
      "metadata": {
        "id": "MyxkSDzOJlrO"
      },
      "execution_count": 13,
      "outputs": []
    },
    {
      "cell_type": "code",
      "source": [
        "df.rename(columns={'NFHS III(2005-06)-Number of women in age group 15-49 per 100-000 reported Diabetes-Total':'women_Diabetes_Total', \n",
        "                   'NFHS III(2005-06)-Number of women in age group 15-49 per 100-000 reported Diabetes-Rural':'women_Diabetes_Rural' ,\n",
        "                   'NFHS III(2005-06)-Number of women in age group 15-49 per 100-000 reported Diabetes-Urban':'women_Diabetes_Urban' , \n",
        "                   'NFHS III(2005-06)-Number of men in age group 15-49 per 100-000 reported Diabetes-Total':'men_Diabetes_Total' , \n",
        "                   'NFHS III(2005-06)-Number of men in age group 15-49 per 100-000 reported Diabetes-Rural':'men_Diabetes_Rural' , \n",
        "                   'NFHS III(2005-06)-Number of men in age group 15-49 per 100-000 reported Diabetes-Urban':'men_Diabetes_Urban' }, inplace=True)"
      ],
      "metadata": {
        "id": "oMkOcq-LJv6c"
      },
      "execution_count": 14,
      "outputs": []
    },
    {
      "cell_type": "code",
      "source": [
        "df.head()"
      ],
      "metadata": {
        "colab": {
          "base_uri": "https://localhost:8080/",
          "height": 250
        },
        "id": "nR4tKiAHJ0Dv",
        "outputId": "75b4d3c4-8989-40b4-df1e-be000e73913c"
      },
      "execution_count": 15,
      "outputs": [
        {
          "output_type": "execute_result",
          "data": {
            "text/plain": [
              "                               Categories India/States/UTs  \\\n",
              "0                               All India            India   \n",
              "1  MAJOR STATES (Population > 20 million)   Andhra Pradesh   \n",
              "2  MAJOR STATES (Population > 20 million)            Assam   \n",
              "3  MAJOR STATES (Population > 20 million)            Bihar   \n",
              "4  MAJOR STATES (Population > 20 million)      Chattisgarh   \n",
              "\n",
              "   women_Diabetes_Total  women_Diabetes_Rural  women_Diabetes_Urban  \\\n",
              "0                   881                   641                  1374   \n",
              "1                   838                   396                  1674   \n",
              "2                   402                   307                   812   \n",
              "3                  1024                   864                  1864   \n",
              "4                   659                   554                  1013   \n",
              "\n",
              "   men_Diabetes_Total  men_Diabetes_Rural  men_Diabetes_Urban  \n",
              "0                1051                 860                1383  \n",
              "1                2116                1747                2788  \n",
              "2                 601                 472                1044  \n",
              "3                 940                1058                 535  \n",
              "4                 932                 237                3050  "
            ],
            "text/html": [
              "\n",
              "  <div id=\"df-7ca51779-172a-4071-bc8c-8d2433a79885\">\n",
              "    <div class=\"colab-df-container\">\n",
              "      <div>\n",
              "<style scoped>\n",
              "    .dataframe tbody tr th:only-of-type {\n",
              "        vertical-align: middle;\n",
              "    }\n",
              "\n",
              "    .dataframe tbody tr th {\n",
              "        vertical-align: top;\n",
              "    }\n",
              "\n",
              "    .dataframe thead th {\n",
              "        text-align: right;\n",
              "    }\n",
              "</style>\n",
              "<table border=\"1\" class=\"dataframe\">\n",
              "  <thead>\n",
              "    <tr style=\"text-align: right;\">\n",
              "      <th></th>\n",
              "      <th>Categories</th>\n",
              "      <th>India/States/UTs</th>\n",
              "      <th>women_Diabetes_Total</th>\n",
              "      <th>women_Diabetes_Rural</th>\n",
              "      <th>women_Diabetes_Urban</th>\n",
              "      <th>men_Diabetes_Total</th>\n",
              "      <th>men_Diabetes_Rural</th>\n",
              "      <th>men_Diabetes_Urban</th>\n",
              "    </tr>\n",
              "  </thead>\n",
              "  <tbody>\n",
              "    <tr>\n",
              "      <th>0</th>\n",
              "      <td>All India</td>\n",
              "      <td>India</td>\n",
              "      <td>881</td>\n",
              "      <td>641</td>\n",
              "      <td>1374</td>\n",
              "      <td>1051</td>\n",
              "      <td>860</td>\n",
              "      <td>1383</td>\n",
              "    </tr>\n",
              "    <tr>\n",
              "      <th>1</th>\n",
              "      <td>MAJOR STATES (Population &gt; 20 million)</td>\n",
              "      <td>Andhra Pradesh</td>\n",
              "      <td>838</td>\n",
              "      <td>396</td>\n",
              "      <td>1674</td>\n",
              "      <td>2116</td>\n",
              "      <td>1747</td>\n",
              "      <td>2788</td>\n",
              "    </tr>\n",
              "    <tr>\n",
              "      <th>2</th>\n",
              "      <td>MAJOR STATES (Population &gt; 20 million)</td>\n",
              "      <td>Assam</td>\n",
              "      <td>402</td>\n",
              "      <td>307</td>\n",
              "      <td>812</td>\n",
              "      <td>601</td>\n",
              "      <td>472</td>\n",
              "      <td>1044</td>\n",
              "    </tr>\n",
              "    <tr>\n",
              "      <th>3</th>\n",
              "      <td>MAJOR STATES (Population &gt; 20 million)</td>\n",
              "      <td>Bihar</td>\n",
              "      <td>1024</td>\n",
              "      <td>864</td>\n",
              "      <td>1864</td>\n",
              "      <td>940</td>\n",
              "      <td>1058</td>\n",
              "      <td>535</td>\n",
              "    </tr>\n",
              "    <tr>\n",
              "      <th>4</th>\n",
              "      <td>MAJOR STATES (Population &gt; 20 million)</td>\n",
              "      <td>Chattisgarh</td>\n",
              "      <td>659</td>\n",
              "      <td>554</td>\n",
              "      <td>1013</td>\n",
              "      <td>932</td>\n",
              "      <td>237</td>\n",
              "      <td>3050</td>\n",
              "    </tr>\n",
              "  </tbody>\n",
              "</table>\n",
              "</div>\n",
              "      <button class=\"colab-df-convert\" onclick=\"convertToInteractive('df-7ca51779-172a-4071-bc8c-8d2433a79885')\"\n",
              "              title=\"Convert this dataframe to an interactive table.\"\n",
              "              style=\"display:none;\">\n",
              "        \n",
              "  <svg xmlns=\"http://www.w3.org/2000/svg\" height=\"24px\"viewBox=\"0 0 24 24\"\n",
              "       width=\"24px\">\n",
              "    <path d=\"M0 0h24v24H0V0z\" fill=\"none\"/>\n",
              "    <path d=\"M18.56 5.44l.94 2.06.94-2.06 2.06-.94-2.06-.94-.94-2.06-.94 2.06-2.06.94zm-11 1L8.5 8.5l.94-2.06 2.06-.94-2.06-.94L8.5 2.5l-.94 2.06-2.06.94zm10 10l.94 2.06.94-2.06 2.06-.94-2.06-.94-.94-2.06-.94 2.06-2.06.94z\"/><path d=\"M17.41 7.96l-1.37-1.37c-.4-.4-.92-.59-1.43-.59-.52 0-1.04.2-1.43.59L10.3 9.45l-7.72 7.72c-.78.78-.78 2.05 0 2.83L4 21.41c.39.39.9.59 1.41.59.51 0 1.02-.2 1.41-.59l7.78-7.78 2.81-2.81c.8-.78.8-2.07 0-2.86zM5.41 20L4 18.59l7.72-7.72 1.47 1.35L5.41 20z\"/>\n",
              "  </svg>\n",
              "      </button>\n",
              "      \n",
              "  <style>\n",
              "    .colab-df-container {\n",
              "      display:flex;\n",
              "      flex-wrap:wrap;\n",
              "      gap: 12px;\n",
              "    }\n",
              "\n",
              "    .colab-df-convert {\n",
              "      background-color: #E8F0FE;\n",
              "      border: none;\n",
              "      border-radius: 50%;\n",
              "      cursor: pointer;\n",
              "      display: none;\n",
              "      fill: #1967D2;\n",
              "      height: 32px;\n",
              "      padding: 0 0 0 0;\n",
              "      width: 32px;\n",
              "    }\n",
              "\n",
              "    .colab-df-convert:hover {\n",
              "      background-color: #E2EBFA;\n",
              "      box-shadow: 0px 1px 2px rgba(60, 64, 67, 0.3), 0px 1px 3px 1px rgba(60, 64, 67, 0.15);\n",
              "      fill: #174EA6;\n",
              "    }\n",
              "\n",
              "    [theme=dark] .colab-df-convert {\n",
              "      background-color: #3B4455;\n",
              "      fill: #D2E3FC;\n",
              "    }\n",
              "\n",
              "    [theme=dark] .colab-df-convert:hover {\n",
              "      background-color: #434B5C;\n",
              "      box-shadow: 0px 1px 3px 1px rgba(0, 0, 0, 0.15);\n",
              "      filter: drop-shadow(0px 1px 2px rgba(0, 0, 0, 0.3));\n",
              "      fill: #FFFFFF;\n",
              "    }\n",
              "  </style>\n",
              "\n",
              "      <script>\n",
              "        const buttonEl =\n",
              "          document.querySelector('#df-7ca51779-172a-4071-bc8c-8d2433a79885 button.colab-df-convert');\n",
              "        buttonEl.style.display =\n",
              "          google.colab.kernel.accessAllowed ? 'block' : 'none';\n",
              "\n",
              "        async function convertToInteractive(key) {\n",
              "          const element = document.querySelector('#df-7ca51779-172a-4071-bc8c-8d2433a79885');\n",
              "          const dataTable =\n",
              "            await google.colab.kernel.invokeFunction('convertToInteractive',\n",
              "                                                     [key], {});\n",
              "          if (!dataTable) return;\n",
              "\n",
              "          const docLinkHtml = 'Like what you see? Visit the ' +\n",
              "            '<a target=\"_blank\" href=https://colab.research.google.com/notebooks/data_table.ipynb>data table notebook</a>'\n",
              "            + ' to learn more about interactive tables.';\n",
              "          element.innerHTML = '';\n",
              "          dataTable['output_type'] = 'display_data';\n",
              "          await google.colab.output.renderOutput(dataTable, element);\n",
              "          const docLink = document.createElement('div');\n",
              "          docLink.innerHTML = docLinkHtml;\n",
              "          element.appendChild(docLink);\n",
              "        }\n",
              "      </script>\n",
              "    </div>\n",
              "  </div>\n",
              "  "
            ]
          },
          "metadata": {},
          "execution_count": 15
        }
      ]
    },
    {
      "cell_type": "code",
      "source": [
        "df.info()"
      ],
      "metadata": {
        "colab": {
          "base_uri": "https://localhost:8080/"
        },
        "id": "BpRJbMAUJ1LZ",
        "outputId": "34a8e51a-0bd2-4f77-d153-302e3431dbd4"
      },
      "execution_count": 16,
      "outputs": [
        {
          "output_type": "stream",
          "name": "stdout",
          "text": [
            "<class 'pandas.core.frame.DataFrame'>\n",
            "RangeIndex: 30 entries, 0 to 29\n",
            "Data columns (total 8 columns):\n",
            " #   Column                Non-Null Count  Dtype \n",
            "---  ------                --------------  ----- \n",
            " 0   Categories            30 non-null     object\n",
            " 1   India/States/UTs      30 non-null     object\n",
            " 2   women_Diabetes_Total  30 non-null     int64 \n",
            " 3   women_Diabetes_Rural  30 non-null     int64 \n",
            " 4   women_Diabetes_Urban  30 non-null     int64 \n",
            " 5   men_Diabetes_Total    30 non-null     int64 \n",
            " 6   men_Diabetes_Rural    30 non-null     int64 \n",
            " 7   men_Diabetes_Urban    30 non-null     int64 \n",
            "dtypes: int64(6), object(2)\n",
            "memory usage: 2.0+ KB\n"
          ]
        }
      ]
    },
    {
      "cell_type": "code",
      "source": [
        "df['Categories'].unique()"
      ],
      "metadata": {
        "colab": {
          "base_uri": "https://localhost:8080/"
        },
        "id": "ZNdlKcb5KcvN",
        "outputId": "feb3af17-8072-4728-9ee4-bd84a48d9be0"
      },
      "execution_count": 17,
      "outputs": [
        {
          "output_type": "execute_result",
          "data": {
            "text/plain": [
              "array(['All India', 'MAJOR STATES (Population > 20 million)',\n",
              "       'SMALLER STATES'], dtype=object)"
            ]
          },
          "metadata": {},
          "execution_count": 17
        }
      ]
    },
    {
      "cell_type": "code",
      "source": [
        "df.isnull().sum()"
      ],
      "metadata": {
        "colab": {
          "base_uri": "https://localhost:8080/"
        },
        "id": "6NhsIVDWKfeG",
        "outputId": "cdea02d7-d158-44d6-cba1-a1abf58e7f9c"
      },
      "execution_count": 18,
      "outputs": [
        {
          "output_type": "execute_result",
          "data": {
            "text/plain": [
              "Categories              0\n",
              "India/States/UTs        0\n",
              "women_Diabetes_Total    0\n",
              "women_Diabetes_Rural    0\n",
              "women_Diabetes_Urban    0\n",
              "men_Diabetes_Total      0\n",
              "men_Diabetes_Rural      0\n",
              "men_Diabetes_Urban      0\n",
              "dtype: int64"
            ]
          },
          "metadata": {},
          "execution_count": 18
        }
      ]
    },
    {
      "cell_type": "code",
      "source": [
        "import missingno as msno\n",
        "p=msno.bar(df)"
      ],
      "metadata": {
        "colab": {
          "base_uri": "https://localhost:8080/",
          "height": 735
        },
        "id": "2ElSXC8HKlE0",
        "outputId": "e463b318-8e70-4468-ae21-ddc8cf5447a2"
      },
      "execution_count": 19,
      "outputs": [
        {
          "output_type": "display_data",
          "data": {
            "text/plain": [
              "<Figure size 1800x720 with 3 Axes>"
            ],
            "image/png": "[encoded data removed]"
          },
          "metadata": {
            "needs_background": "light"
          }
        }
      ]
    },
    {
      "cell_type": "code",
      "source": [
        "import seaborn as sns\n",
        "sns.heatmap(df.corr(),annot=True)"
      ],
      "metadata": {
        "colab": {
          "base_uri": "https://localhost:8080/",
          "height": 397
        },
        "id": "1avMkJygKozg",
        "outputId": "c7d14326-e27b-4b58-9735-6a5a485700df"
      },
      "execution_count": 20,
      "outputs": [
        {
          "output_type": "execute_result",
          "data": {
            "text/plain": [
              "<matplotlib.axes._subplots.AxesSubplot at 0x7ff3adeb9790>"
            ]
          },
          "metadata": {},
          "execution_count": 20
        },
        {
          "output_type": "display_data",
          "data": {
            "text/plain": [
              "<Figure size 432x288 with 2 Axes>"
            ],
            "image/png": "[encoded data removed]"
          },
          "metadata": {
            "needs_background": "light"
          }
        }
      ]
    },
    {
      "cell_type": "code",
      "source": [
        "sns.barplot(x= \"men_Diabetes_Total\", y=\"India/States/UTs\", data=df)"
      ],
      "metadata": {
        "colab": {
          "base_uri": "https://localhost:8080/",
          "height": 298
        },
        "id": "ocJL3nMFMCEQ",
        "outputId": "3bf7abda-67e5-4fdc-c6db-6e0b8e62ac4e"
      },
      "execution_count": 21,
      "outputs": [
        {
          "output_type": "execute_result",
          "data": {
            "text/plain": [
              "<matplotlib.axes._subplots.AxesSubplot at 0x7ff3ab020fd0>"
            ]
          },
          "metadata": {},
          "execution_count": 21
        },
        {
          "output_type": "display_data",
          "data": {
            "text/plain": [
              "<Figure size 432x288 with 1 Axes>"
            ],
            "image/png": "[encoded data removed]"
          },
          "metadata": {
            "needs_background": "light"
          }
        }
      ]
    },
    {
      "cell_type": "code",
      "source": [
        "ax = plt.subplots()\n",
        "ax = sns.barplot(x= \"women_Diabetes_Total\", y=\"India/States/UTs\", data=df , color='green')\n",
        "ax = sns.barplot(x= \"men_Diabetes_Total\", y=\"India/States/UTs\", data=df ,color='b')\n",
        "ax.set(xlabel=\"x-axis\", ylabel=\"y-axis\")\n",
        "plt.show()"
      ],
      "metadata": {
        "colab": {
          "base_uri": "https://localhost:8080/",
          "height": 280
        },
        "id": "7icLDKFhMOhl",
        "outputId": "9c2c196d-6a42-42ee-bf63-ca199de2fc3e"
      },
      "execution_count": 22,
      "outputs": [
        {
          "output_type": "display_data",
          "data": {
            "text/plain": [
              "<Figure size 432x288 with 1 Axes>"
            ],
            "image/png": "[encoded data removed]"
          },
          "metadata": {
            "needs_background": "light"
          }
        }
      ]
    },
    {
      "cell_type": "code",
      "source": [
        "ax = plt.subplots()\n",
        "ax = sns.barplot(x= \"women_Diabetes_Rural\", y=\"India/States/UTs\", data=df , color='r')\n",
        "ax = sns.barplot(x= \"men_Diabetes_Rural\", y=\"India/States/UTs\", data=df ,color='b')\n",
        "ax.set(xlabel=\"x-axis\", ylabel=\"y-axis\")\n",
        "plt.show()"
      ],
      "metadata": {
        "colab": {
          "base_uri": "https://localhost:8080/",
          "height": 280
        },
        "id": "f5yHj5yuMt0p",
        "outputId": "f0f2c00c-790f-4b72-cc09-5334ce1a7869"
      },
      "execution_count": 23,
      "outputs": [
        {
          "output_type": "display_data",
          "data": {
            "text/plain": [
              "<Figure size 432x288 with 1 Axes>"
            ],
            "image/png": "[encoded data removed]"
          },
          "metadata": {
            "needs_background": "light"
          }
        }
      ]
    },
    {
      "cell_type": "code",
      "source": [
        "ax = plt.subplots()\n",
        "ax = sns.barplot(x= \"women_Diabetes_Urban\", y=\"India/States/UTs\", data=df , color='b')\n",
        "ax = sns.barplot(x= \"men_Diabetes_Urban\", y=\"India/States/UTs\", data=df ,color='r')\n",
        "ax.set(xlabel=\"x-axis\", ylabel=\"y-axis\")\n",
        "plt.show()"
      ],
      "metadata": {
        "colab": {
          "base_uri": "https://localhost:8080/",
          "height": 280
        },
        "id": "9NpVAUqRMzVP",
        "outputId": "8fefd2cb-72cb-4e4e-85ed-6aabdbbd88bd"
      },
      "execution_count": 24,
      "outputs": [
        {
          "output_type": "display_data",
          "data": {
            "text/plain": [
              "<Figure size 432x288 with 1 Axes>"
            ],
            "image/png": "[encoded data removed]"
          },
          "metadata": {
            "needs_background": "light"
          }
        }
      ]
    },
    {
      "cell_type": "code",
      "source": [
        "df = df.drop(0)\n",
        "states = df[\"India/States/UTs\"]\n",
        "df.head(5) "
      ],
      "metadata": {
        "colab": {
          "base_uri": "https://localhost:8080/",
          "height": 250
        },
        "id": "D7y0bifuQBAD",
        "outputId": "5d145a7b-f757-46e2-e3b5-48ec01a9b233"
      },
      "execution_count": 25,
      "outputs": [
        {
          "output_type": "execute_result",
          "data": {
            "text/plain": [
              "                               Categories India/States/UTs  \\\n",
              "1  MAJOR STATES (Population > 20 million)   Andhra Pradesh   \n",
              "2  MAJOR STATES (Population > 20 million)            Assam   \n",
              "3  MAJOR STATES (Population > 20 million)            Bihar   \n",
              "4  MAJOR STATES (Population > 20 million)      Chattisgarh   \n",
              "5  MAJOR STATES (Population > 20 million)          Gujarat   \n",
              "\n",
              "   women_Diabetes_Total  women_Diabetes_Rural  women_Diabetes_Urban  \\\n",
              "1                   838                   396                  1674   \n",
              "2                   402                   307                   812   \n",
              "3                  1024                   864                  1864   \n",
              "4                   659                   554                  1013   \n",
              "5                   968                   796                  1193   \n",
              "\n",
              "   men_Diabetes_Total  men_Diabetes_Rural  men_Diabetes_Urban  \n",
              "1                2116                1747                2788  \n",
              "2                 601                 472                1044  \n",
              "3                 940                1058                 535  \n",
              "4                 932                 237                3050  \n",
              "5                 524                 519                 530  "
            ],
            "text/html": [
              "\n",
              "  <div id=\"df-8c79ba59-bced-4060-82e7-21b7e2eaf1ca\">\n",
              "    <div class=\"colab-df-container\">\n",
              "      <div>\n",
              "<style scoped>\n",
              "    .dataframe tbody tr th:only-of-type {\n",
              "        vertical-align: middle;\n",
              "    }\n",
              "\n",
              "    .dataframe tbody tr th {\n",
              "        vertical-align: top;\n",
              "    }\n",
              "\n",
              "    .dataframe thead th {\n",
              "        text-align: right;\n",
              "    }\n",
              "</style>\n",
              "<table border=\"1\" class=\"dataframe\">\n",
              "  <thead>\n",
              "    <tr style=\"text-align: right;\">\n",
              "      <th></th>\n",
              "      <th>Categories</th>\n",
              "      <th>India/States/UTs</th>\n",
              "      <th>women_Diabetes_Total</th>\n",
              "      <th>women_Diabetes_Rural</th>\n",
              "      <th>women_Diabetes_Urban</th>\n",
              "      <th>men_Diabetes_Total</th>\n",
              "      <th>men_Diabetes_Rural</th>\n",
              "      <th>men_Diabetes_Urban</th>\n",
              "    </tr>\n",
              "  </thead>\n",
              "  <tbody>\n",
              "    <tr>\n",
              "      <th>1</th>\n",
              "      <td>MAJOR STATES (Population &gt; 20 million)</td>\n",
              "      <td>Andhra Pradesh</td>\n",
              "      <td>838</td>\n",
              "      <td>396</td>\n",
              "      <td>1674</td>\n",
              "      <td>2116</td>\n",
              "      <td>1747</td>\n",
              "      <td>2788</td>\n",
              "    </tr>\n",
              "    <tr>\n",
              "      <th>2</th>\n",
              "      <td>MAJOR STATES (Population &gt; 20 million)</td>\n",
              "      <td>Assam</td>\n",
              "      <td>402</td>\n",
              "      <td>307</td>\n",
              "      <td>812</td>\n",
              "      <td>601</td>\n",
              "      <td>472</td>\n",
              "      <td>1044</td>\n",
              "    </tr>\n",
              "    <tr>\n",
              "      <th>3</th>\n",
              "      <td>MAJOR STATES (Population &gt; 20 million)</td>\n",
              "      <td>Bihar</td>\n",
              "      <td>1024</td>\n",
              "      <td>864</td>\n",
              "      <td>1864</td>\n",
              "      <td>940</td>\n",
              "      <td>1058</td>\n",
              "      <td>535</td>\n",
              "    </tr>\n",
              "    <tr>\n",
              "      <th>4</th>\n",
              "      <td>MAJOR STATES (Population &gt; 20 million)</td>\n",
              "      <td>Chattisgarh</td>\n",
              "      <td>659</td>\n",
              "      <td>554</td>\n",
              "      <td>1013</td>\n",
              "      <td>932</td>\n",
              "      <td>237</td>\n",
              "      <td>3050</td>\n",
              "    </tr>\n",
              "    <tr>\n",
              "      <th>5</th>\n",
              "      <td>MAJOR STATES (Population &gt; 20 million)</td>\n",
              "      <td>Gujarat</td>\n",
              "      <td>968</td>\n",
              "      <td>796</td>\n",
              "      <td>1193</td>\n",
              "      <td>524</td>\n",
              "      <td>519</td>\n",
              "      <td>530</td>\n",
              "    </tr>\n",
              "  </tbody>\n",
              "</table>\n",
              "</div>\n",
              "      <button class=\"colab-df-convert\" onclick=\"convertToInteractive('df-8c79ba59-bced-4060-82e7-21b7e2eaf1ca')\"\n",
              "              title=\"Convert this dataframe to an interactive table.\"\n",
              "              style=\"display:none;\">\n",
              "        \n",
              "  <svg xmlns=\"http://www.w3.org/2000/svg\" height=\"24px\"viewBox=\"0 0 24 24\"\n",
              "       width=\"24px\">\n",
              "    <path d=\"M0 0h24v24H0V0z\" fill=\"none\"/>\n",
              "    <path d=\"M18.56 5.44l.94 2.06.94-2.06 2.06-.94-2.06-.94-.94-2.06-.94 2.06-2.06.94zm-11 1L8.5 8.5l.94-2.06 2.06-.94-2.06-.94L8.5 2.5l-.94 2.06-2.06.94zm10 10l.94 2.06.94-2.06 2.06-.94-2.06-.94-.94-2.06-.94 2.06-2.06.94z\"/><path d=\"M17.41 7.96l-1.37-1.37c-.4-.4-.92-.59-1.43-.59-.52 0-1.04.2-1.43.59L10.3 9.45l-7.72 7.72c-.78.78-.78 2.05 0 2.83L4 21.41c.39.39.9.59 1.41.59.51 0 1.02-.2 1.41-.59l7.78-7.78 2.81-2.81c.8-.78.8-2.07 0-2.86zM5.41 20L4 18.59l7.72-7.72 1.47 1.35L5.41 20z\"/>\n",
              "  </svg>\n",
              "      </button>\n",
              "      \n",
              "  <style>\n",
              "    .colab-df-container {\n",
              "      display:flex;\n",
              "      flex-wrap:wrap;\n",
              "      gap: 12px;\n",
              "    }\n",
              "\n",
              "    .colab-df-convert {\n",
              "      background-color: #E8F0FE;\n",
              "      border: none;\n",
              "      border-radius: 50%;\n",
              "      cursor: pointer;\n",
              "      display: none;\n",
              "      fill: #1967D2;\n",
              "      height: 32px;\n",
              "      padding: 0 0 0 0;\n",
              "      width: 32px;\n",
              "    }\n",
              "\n",
              "    .colab-df-convert:hover {\n",
              "      background-color: #E2EBFA;\n",
              "      box-shadow: 0px 1px 2px rgba(60, 64, 67, 0.3), 0px 1px 3px 1px rgba(60, 64, 67, 0.15);\n",
              "      fill: #174EA6;\n",
              "    }\n",
              "\n",
              "    [theme=dark] .colab-df-convert {\n",
              "      background-color: #3B4455;\n",
              "      fill: #D2E3FC;\n",
              "    }\n",
              "\n",
              "    [theme=dark] .colab-df-convert:hover {\n",
              "      background-color: #434B5C;\n",
              "      box-shadow: 0px 1px 3px 1px rgba(0, 0, 0, 0.15);\n",
              "      filter: drop-shadow(0px 1px 2px rgba(0, 0, 0, 0.3));\n",
              "      fill: #FFFFFF;\n",
              "    }\n",
              "  </style>\n",
              "\n",
              "      <script>\n",
              "        const buttonEl =\n",
              "          document.querySelector('#df-8c79ba59-bced-4060-82e7-21b7e2eaf1ca button.colab-df-convert');\n",
              "        buttonEl.style.display =\n",
              "          google.colab.kernel.accessAllowed ? 'block' : 'none';\n",
              "\n",
              "        async function convertToInteractive(key) {\n",
              "          const element = document.querySelector('#df-8c79ba59-bced-4060-82e7-21b7e2eaf1ca');\n",
              "          const dataTable =\n",
              "            await google.colab.kernel.invokeFunction('convertToInteractive',\n",
              "                                                     [key], {});\n",
              "          if (!dataTable) return;\n",
              "\n",
              "          const docLinkHtml = 'Like what you see? Visit the ' +\n",
              "            '<a target=\"_blank\" href=https://colab.research.google.com/notebooks/data_table.ipynb>data table notebook</a>'\n",
              "            + ' to learn more about interactive tables.';\n",
              "          element.innerHTML = '';\n",
              "          dataTable['output_type'] = 'display_data';\n",
              "          await google.colab.output.renderOutput(dataTable, element);\n",
              "          const docLink = document.createElement('div');\n",
              "          docLink.innerHTML = docLinkHtml;\n",
              "          element.appendChild(docLink);\n",
              "        }\n",
              "      </script>\n",
              "    </div>\n",
              "  </div>\n",
              "  "
            ]
          },
          "metadata": {},
          "execution_count": 25
        }
      ]
    },
    {
      "cell_type": "code",
      "source": [
        "from sklearn.cluster import KMeans\n",
        "from sklearn import preprocessing\n",
        "le = preprocessing.LabelEncoder()\n",
        "le.fit(df[\"Categories\"])\n",
        "label=list(le.transform(df[\"Categories\"]))\n",
        "df[\"Categories\"]=label"
      ],
      "metadata": {
        "id": "9sbh99DpNOBf"
      },
      "execution_count": 26,
      "outputs": []
    },
    {
      "cell_type": "code",
      "source": [
        "from sklearn import preprocessing\n",
        "le = preprocessing.LabelEncoder()\n",
        "le.fit(df[\"India/States/UTs\"])\n",
        "label=list(le.transform(df[\"India/States/UTs\"]))\n",
        "df[\"India/States/UTs\"]=label"
      ],
      "metadata": {
        "id": "uFbeG63RNRX_"
      },
      "execution_count": 27,
      "outputs": []
    },
    {
      "cell_type": "code",
      "source": [
        "X = np.array(df)\n",
        "kmeans = KMeans(n_clusters=5, random_state=0).fit(X)\n",
        "kmeans.labels_"
      ],
      "metadata": {
        "colab": {
          "base_uri": "https://localhost:8080/"
        },
        "id": "uOVA11iqNkY3",
        "outputId": "db724898-d10a-4fae-9ebf-7e59db68b118"
      },
      "execution_count": 28,
      "outputs": [
        {
          "output_type": "execute_result",
          "data": {
            "text/plain": [
              "array([4, 1, 3, 0, 1, 3, 1, 1, 2, 1, 1, 0, 1, 1, 3, 1, 4, 1, 3, 2, 1, 1,\n",
              "       1, 3, 1, 1, 4, 4, 3], dtype=int32)"
            ]
          },
          "metadata": {},
          "execution_count": 28
        }
      ]
    },
    {
      "cell_type": "code",
      "source": [
        "interia_list =[]\n",
        "for i in range(1,11):\n",
        "    kmns= KMeans(n_clusters = i, init = 'k-means++')\n",
        "    kmns.fit(X)\n",
        "    interia_list.append(kmns.inertia_)   "
      ],
      "metadata": {
        "id": "lyUMS9TJNT0T"
      },
      "execution_count": 29,
      "outputs": []
    },
    {
      "cell_type": "code",
      "source": [
        "sns.set(rc={'figure.figsize':(10 , 7)})\n",
        "plt.scatter(range(1,11), interia_list)\n",
        "plt.xlabel('Number of Clusters')\n",
        "plt.ylabel('interia')\n",
        "plt.title('Elbow Method')\n",
        "plt.grid(True)\n",
        "plt.show()"
      ],
      "metadata": {
        "colab": {
          "base_uri": "https://localhost:8080/",
          "height": 464
        },
        "id": "-tUI0gbuNyMV",
        "outputId": "565ee96b-af3d-4a1c-a24f-30b5999cccb2"
      },
      "execution_count": 30,
      "outputs": [
        {
          "output_type": "display_data",
          "data": {
            "text/plain": [
              "<Figure size 720x504 with 1 Axes>"
            ],
            "image/png": "[encoded data removed]"
          },
          "metadata": {}
        }
      ]
    },
    {
      "cell_type": "code",
      "source": [
        "!pip install impyute"
      ],
      "metadata": {
        "colab": {
          "base_uri": "https://localhost:8080/"
        },
        "id": "DwayCabFpqjd",
        "outputId": "2a2627b2-5c07-4748-a0d4-e32d4995dff0"
      },
      "execution_count": 31,
      "outputs": [
        {
          "output_type": "stream",
          "name": "stdout",
          "text": [
            "Collecting impyute\n",
            "  Downloading impyute-0.0.8-py2.py3-none-any.whl (31 kB)\n",
            "Requirement already satisfied: scikit-learn in /usr/local/lib/python3.7/dist-packages (from impyute) (1.0.2)\n",
            "Requirement already satisfied: scipy in /usr/local/lib/python3.7/dist-packages (from impyute) (1.4.1)\n",
            "Requirement already satisfied: numpy in /usr/local/lib/python3.7/dist-packages (from impyute) (1.21.6)\n",
            "Requirement already satisfied: joblib>=0.11 in /usr/local/lib/python3.7/dist-packages (from scikit-learn->impyute) (1.1.0)\n",
            "Requirement already satisfied: threadpoolctl>=2.0.0 in /usr/local/lib/python3.7/dist-packages (from scikit-learn->impyute) (3.1.0)\n",
            "Installing collected packages: impyute\n",
            "Successfully installed impyute-0.0.8\n"
          ]
        }
      ]
    },
    {
      "cell_type": "code",
      "source": [
        "import sklearn.cluster as cluster"
      ],
      "metadata": {
        "id": "IabU0fAmptve"
      },
      "execution_count": 41,
      "outputs": []
    },
    {
      "cell_type": "code",
      "source": [
        "df_short = df[['women_Diabetes_Total','men_Diabetes_Total']]"
      ],
      "metadata": {
        "id": "5Xj9JALzGBxu"
      },
      "execution_count": 42,
      "outputs": []
    },
    {
      "cell_type": "code",
      "source": [
        "K = range(1,12)\n",
        "no = []\n",
        "for k in K:\n",
        "  kmeans = cluster.KMeans(n_clusters=k,init=\"k-means++\")\n",
        "  kmeans = kmeans.fit(df_short)\n",
        "  no_iter = kmeans.inertia_\n",
        "  no.append(no_iter)"
      ],
      "metadata": {
        "id": "9-hs9HHipwRr"
      },
      "execution_count": 43,
      "outputs": []
    },
    {
      "cell_type": "code",
      "source": [
        "mycenters = pd.DataFrame({'cluster':K,'NO':no})\n",
        "mycenters\n"
      ],
      "metadata": {
        "colab": {
          "base_uri": "https://localhost:8080/",
          "height": 394
        },
        "id": "vbVrT5vjGfqN",
        "outputId": "44cf331f-1fcc-406b-f558-74ba874e47d8"
      },
      "execution_count": 44,
      "outputs": [
        {
          "output_type": "execute_result",
          "data": {
            "text/plain": [
              "    cluster            NO\n",
              "0         1  2.609453e+07\n",
              "1         2  8.527863e+06\n",
              "2         3  5.636731e+06\n",
              "3         4  4.184532e+06\n",
              "4         5  2.877460e+06\n",
              "5         6  1.903801e+06\n",
              "6         7  1.279001e+06\n",
              "7         8  1.006540e+06\n",
              "8         9  8.074261e+05\n",
              "9        10  6.833112e+05\n",
              "10       11  5.377721e+05"
            ],
            "text/html": [
              "\n",
              "  <div id=\"df-4930fb37-9512-468b-ae2e-7a970cb69f57\">\n",
              "    <div class=\"colab-df-container\">\n",
              "      <div>\n",
              "<style scoped>\n",
              "    .dataframe tbody tr th:only-of-type {\n",
              "        vertical-align: middle;\n",
              "    }\n",
              "\n",
              "    .dataframe tbody tr th {\n",
              "        vertical-align: top;\n",
              "    }\n",
              "\n",
              "    .dataframe thead th {\n",
              "        text-align: right;\n",
              "    }\n",
              "</style>\n",
              "<table border=\"1\" class=\"dataframe\">\n",
              "  <thead>\n",
              "    <tr style=\"text-align: right;\">\n",
              "      <th></th>\n",
              "      <th>cluster</th>\n",
              "      <th>NO</th>\n",
              "    </tr>\n",
              "  </thead>\n",
              "  <tbody>\n",
              "    <tr>\n",
              "      <th>0</th>\n",
              "      <td>1</td>\n",
              "      <td>2.609453e+07</td>\n",
              "    </tr>\n",
              "    <tr>\n",
              "      <th>1</th>\n",
              "      <td>2</td>\n",
              "      <td>8.527863e+06</td>\n",
              "    </tr>\n",
              "    <tr>\n",
              "      <th>2</th>\n",
              "      <td>3</td>\n",
              "      <td>5.636731e+06</td>\n",
              "    </tr>\n",
              "    <tr>\n",
              "      <th>3</th>\n",
              "      <td>4</td>\n",
              "      <td>4.184532e+06</td>\n",
              "    </tr>\n",
              "    <tr>\n",
              "      <th>4</th>\n",
              "      <td>5</td>\n",
              "      <td>2.877460e+06</td>\n",
              "    </tr>\n",
              "    <tr>\n",
              "      <th>5</th>\n",
              "      <td>6</td>\n",
              "      <td>1.903801e+06</td>\n",
              "    </tr>\n",
              "    <tr>\n",
              "      <th>6</th>\n",
              "      <td>7</td>\n",
              "      <td>1.279001e+06</td>\n",
              "    </tr>\n",
              "    <tr>\n",
              "      <th>7</th>\n",
              "      <td>8</td>\n",
              "      <td>1.006540e+06</td>\n",
              "    </tr>\n",
              "    <tr>\n",
              "      <th>8</th>\n",
              "      <td>9</td>\n",
              "      <td>8.074261e+05</td>\n",
              "    </tr>\n",
              "    <tr>\n",
              "      <th>9</th>\n",
              "      <td>10</td>\n",
              "      <td>6.833112e+05</td>\n",
              "    </tr>\n",
              "    <tr>\n",
              "      <th>10</th>\n",
              "      <td>11</td>\n",
              "      <td>5.377721e+05</td>\n",
              "    </tr>\n",
              "  </tbody>\n",
              "</table>\n",
              "</div>\n",
              "      <button class=\"colab-df-convert\" onclick=\"convertToInteractive('df-4930fb37-9512-468b-ae2e-7a970cb69f57')\"\n",
              "              title=\"Convert this dataframe to an interactive table.\"\n",
              "              style=\"display:none;\">\n",
              "        \n",
              "  <svg xmlns=\"http://www.w3.org/2000/svg\" height=\"24px\"viewBox=\"0 0 24 24\"\n",
              "       width=\"24px\">\n",
              "    <path d=\"M0 0h24v24H0V0z\" fill=\"none\"/>\n",
              "    <path d=\"M18.56 5.44l.94 2.06.94-2.06 2.06-.94-2.06-.94-.94-2.06-.94 2.06-2.06.94zm-11 1L8.5 8.5l.94-2.06 2.06-.94-2.06-.94L8.5 2.5l-.94 2.06-2.06.94zm10 10l.94 2.06.94-2.06 2.06-.94-2.06-.94-.94-2.06-.94 2.06-2.06.94z\"/><path d=\"M17.41 7.96l-1.37-1.37c-.4-.4-.92-.59-1.43-.59-.52 0-1.04.2-1.43.59L10.3 9.45l-7.72 7.72c-.78.78-.78 2.05 0 2.83L4 21.41c.39.39.9.59 1.41.59.51 0 1.02-.2 1.41-.59l7.78-7.78 2.81-2.81c.8-.78.8-2.07 0-2.86zM5.41 20L4 18.59l7.72-7.72 1.47 1.35L5.41 20z\"/>\n",
              "  </svg>\n",
              "      </button>\n",
              "      \n",
              "  <style>\n",
              "    .colab-df-container {\n",
              "      display:flex;\n",
              "      flex-wrap:wrap;\n",
              "      gap: 12px;\n",
              "    }\n",
              "\n",
              "    .colab-df-convert {\n",
              "      background-color: #E8F0FE;\n",
              "      border: none;\n",
              "      border-radius: 50%;\n",
              "      cursor: pointer;\n",
              "      display: none;\n",
              "      fill: #1967D2;\n",
              "      height: 32px;\n",
              "      padding: 0 0 0 0;\n",
              "      width: 32px;\n",
              "    }\n",
              "\n",
              "    .colab-df-convert:hover {\n",
              "      background-color: #E2EBFA;\n",
              "      box-shadow: 0px 1px 2px rgba(60, 64, 67, 0.3), 0px 1px 3px 1px rgba(60, 64, 67, 0.15);\n",
              "      fill: #174EA6;\n",
              "    }\n",
              "\n",
              "    [theme=dark] .colab-df-convert {\n",
              "      background-color: #3B4455;\n",
              "      fill: #D2E3FC;\n",
              "    }\n",
              "\n",
              "    [theme=dark] .colab-df-convert:hover {\n",
              "      background-color: #434B5C;\n",
              "      box-shadow: 0px 1px 3px 1px rgba(0, 0, 0, 0.15);\n",
              "      filter: drop-shadow(0px 1px 2px rgba(0, 0, 0, 0.3));\n",
              "      fill: #FFFFFF;\n",
              "    }\n",
              "  </style>\n",
              "\n",
              "      <script>\n",
              "        const buttonEl =\n",
              "          document.querySelector('#df-4930fb37-9512-468b-ae2e-7a970cb69f57 button.colab-df-convert');\n",
              "        buttonEl.style.display =\n",
              "          google.colab.kernel.accessAllowed ? 'block' : 'none';\n",
              "\n",
              "        async function convertToInteractive(key) {\n",
              "          const element = document.querySelector('#df-4930fb37-9512-468b-ae2e-7a970cb69f57');\n",
              "          const dataTable =\n",
              "            await google.colab.kernel.invokeFunction('convertToInteractive',\n",
              "                                                     [key], {});\n",
              "          if (!dataTable) return;\n",
              "\n",
              "          const docLinkHtml = 'Like what you see? Visit the ' +\n",
              "            '<a target=\"_blank\" href=https://colab.research.google.com/notebooks/data_table.ipynb>data table notebook</a>'\n",
              "            + ' to learn more about interactive tables.';\n",
              "          element.innerHTML = '';\n",
              "          dataTable['output_type'] = 'display_data';\n",
              "          await google.colab.output.renderOutput(dataTable, element);\n",
              "          const docLink = document.createElement('div');\n",
              "          docLink.innerHTML = docLinkHtml;\n",
              "          element.appendChild(docLink);\n",
              "        }\n",
              "      </script>\n",
              "    </div>\n",
              "  </div>\n",
              "  "
            ]
          },
          "metadata": {},
          "execution_count": 44
        }
      ]
    },
    {
      "cell_type": "code",
      "source": [
        "import sklearn.metrics as metrics"
      ],
      "metadata": {
        "id": "WN4dZ2XBGjpV"
      },
      "execution_count": 45,
      "outputs": []
    },
    {
      "cell_type": "code",
      "source": [
        "kmeans = cluster.KMeans(n_clusters=5,init=\"k-means++\")\n",
        "kmeans = kmeans.fit(df[[\"men_Diabetes_Total\",\"women_Diabetes_Total\"]])"
      ],
      "metadata": {
        "id": "bdGk4I8hGp4l"
      },
      "execution_count": 55,
      "outputs": []
    },
    {
      "cell_type": "code",
      "source": [
        "df[\"clusters\"] = kmeans.labels_"
      ],
      "metadata": {
        "id": "FUgq0BvMG7Q8"
      },
      "execution_count": 56,
      "outputs": []
    },
    {
      "cell_type": "code",
      "source": [
        "sns.scatterplot(x=\"men_Diabetes_Total\",y=\"women_Diabetes_Total\",hue=\"clusters\", data=df)"
      ],
      "metadata": {
        "colab": {
          "base_uri": "https://localhost:8080/",
          "height": 465
        },
        "id": "JoqLv2VpG_jG",
        "outputId": "ea1671ca-d395-4fa0-8a7f-4700d434cbb5"
      },
      "execution_count": 57,
      "outputs": [
        {
          "output_type": "execute_result",
          "data": {
            "text/plain": [
              "<matplotlib.axes._subplots.AxesSubplot at 0x7ff3a6176590>"
            ]
          },
          "metadata": {},
          "execution_count": 57
        },
        {
          "output_type": "display_data",
          "data": {
            "text/plain": [
              "<Figure size 720x504 with 1 Axes>"
            ],
            "image/png": "[encoded data removed]"
          },
          "metadata": {}
        }
      ]
    },
    {
      "cell_type": "code",
      "source": [
        "kmeans = kmeans.fit(df[[\"men_Diabetes_Rural\",\"women_Diabetes_Rural\"]])\n",
        "sns.scatterplot(x=\"men_Diabetes_Rural\",y=\"women_Diabetes_Rural\",hue=\"clusters\", data=df)"
      ],
      "metadata": {
        "colab": {
          "base_uri": "https://localhost:8080/",
          "height": 465
        },
        "id": "1J4xYAv2H6Y8",
        "outputId": "e69e8bf5-9f07-4488-ff79-943e2d50282f"
      },
      "execution_count": 59,
      "outputs": [
        {
          "output_type": "execute_result",
          "data": {
            "text/plain": [
              "<matplotlib.axes._subplots.AxesSubplot at 0x7ff3a610a450>"
            ]
          },
          "metadata": {},
          "execution_count": 59
        },
        {
          "output_type": "display_data",
          "data": {
            "text/plain": [
              "<Figure size 720x504 with 1 Axes>"
            ],
            "image/png": "[encoded data removed]"
          },
          "metadata": {}
        }
      ]
    },
    {
      "cell_type": "code",
      "source": [
        "kmeans = kmeans.fit(df[[\"men_Diabetes_Urban\",\"women_Diabetes_Urban\"]])\n",
        "sns.scatterplot(x=\"men_Diabetes_Urban\",y=\"women_Diabetes_Urban\",hue=\"clusters\", data=df)"
      ],
      "metadata": {
        "colab": {
          "base_uri": "https://localhost:8080/",
          "height": 465
        },
        "id": "uVyxKb2YIfA_",
        "outputId": "c5c84a96-93f1-4262-ba21-ec4b843501dc"
      },
      "execution_count": 60,
      "outputs": [
        {
          "output_type": "execute_result",
          "data": {
            "text/plain": [
              "<matplotlib.axes._subplots.AxesSubplot at 0x7ff3a60976d0>"
            ]
          },
          "metadata": {},
          "execution_count": 60
        },
        {
          "output_type": "display_data",
          "data": {
            "text/plain": [
              "<Figure size 720x504 with 1 Axes>"
            ],
            "image/png": "[encoded data removed]"
          },
          "metadata": {}
        }
      ]
    }
  ]
}